{
 "cells": [
  {
   "cell_type": "markdown",
   "metadata": {},
   "source": [
    "#### Python Lists"
   ]
  },
  {
   "cell_type": "markdown",
   "metadata": {},
   "source": [
    "##### Python Lists are ordered, changeable/mutable and allows duplicate members"
   ]
  },
  {
   "cell_type": "code",
   "execution_count": 1,
   "metadata": {
    "ExecuteTime": {
     "end_time": "2019-11-28T19:17:18.445128Z",
     "start_time": "2019-11-28T19:17:18.365443Z"
    }
   },
   "outputs": [
    {
     "data": {
      "text/plain": [
       "list"
      ]
     },
     "execution_count": 1,
     "metadata": {},
     "output_type": "execute_result"
    }
   ],
   "source": [
    "l = [] # empty list in Python\n",
    "type(l)"
   ]
  },
  {
   "cell_type": "code",
   "execution_count": 2,
   "metadata": {
    "ExecuteTime": {
     "end_time": "2019-11-28T19:17:18.451033Z",
     "start_time": "2019-11-28T19:17:18.447080Z"
    }
   },
   "outputs": [
    {
     "name": "stdout",
     "output_type": "stream",
     "text": [
      "2 5 [3, 4] [1, 2]\n"
     ]
    }
   ],
   "source": [
    "l = [1,2,3,4,5]\n",
    "print(l[1], l[-1], l[2:4], l[:2]) # accessing individual elements "
   ]
  },
  {
   "cell_type": "code",
   "execution_count": 3,
   "metadata": {
    "ExecuteTime": {
     "end_time": "2019-11-28T19:17:18.456180Z",
     "start_time": "2019-11-28T19:17:18.453247Z"
    }
   },
   "outputs": [
    {
     "name": "stdout",
     "output_type": "stream",
     "text": [
      "[1, 'changed', 3, 4, 5]\n"
     ]
    }
   ],
   "source": [
    "l[1] = 'changed'\n",
    "print(l) # the list can hold multiple data types"
   ]
  },
  {
   "cell_type": "code",
   "execution_count": 4,
   "metadata": {
    "ExecuteTime": {
     "end_time": "2019-11-28T19:17:18.461506Z",
     "start_time": "2019-11-28T19:17:18.458111Z"
    }
   },
   "outputs": [
    {
     "name": "stdout",
     "output_type": "stream",
     "text": [
      "['Zero', 1, 'changed', 4, 5, 6]\n"
     ]
    }
   ],
   "source": [
    "l.append(6) # add at the last location\n",
    "l.insert(0, 'Zero') # insert at location 0\n",
    "l.remove(3) # remove the element \n",
    "print(l)"
   ]
  },
  {
   "cell_type": "code",
   "execution_count": 5,
   "metadata": {
    "ExecuteTime": {
     "end_time": "2019-11-28T19:17:18.466229Z",
     "start_time": "2019-11-28T19:17:18.463070Z"
    }
   },
   "outputs": [
    {
     "name": "stdout",
     "output_type": "stream",
     "text": [
      "[1, 'changed', 4, 5]\n"
     ]
    }
   ],
   "source": [
    "l.pop() # remove the last element \n",
    "del l[0] # delete based on index\n",
    "print(l)"
   ]
  },
  {
   "cell_type": "code",
   "execution_count": 6,
   "metadata": {
    "ExecuteTime": {
     "end_time": "2019-11-28T19:17:18.470856Z",
     "start_time": "2019-11-28T19:17:18.467781Z"
    }
   },
   "outputs": [
    {
     "name": "stdout",
     "output_type": "stream",
     "text": [
      "1\n"
     ]
    }
   ],
   "source": [
    "print(l.index('changed')) # get the index of element specified "
   ]
  },
  {
   "cell_type": "code",
   "execution_count": 7,
   "metadata": {
    "ExecuteTime": {
     "end_time": "2019-11-28T19:17:18.475297Z",
     "start_time": "2019-11-28T19:17:18.472403Z"
    }
   },
   "outputs": [
    {
     "name": "stdout",
     "output_type": "stream",
     "text": [
      "[]\n"
     ]
    }
   ],
   "source": [
    "l.clear() # delete the entire list \n",
    "print(l)"
   ]
  },
  {
   "cell_type": "markdown",
   "metadata": {},
   "source": [
    "##### Working with multiple lists"
   ]
  },
  {
   "cell_type": "code",
   "execution_count": 8,
   "metadata": {
    "ExecuteTime": {
     "end_time": "2019-11-28T19:17:18.480170Z",
     "start_time": "2019-11-28T19:17:18.477549Z"
    }
   },
   "outputs": [],
   "source": [
    "l1 = [1,2,3,4,5]\n",
    "l2 = ['six','seven','eight','nine','ten']"
   ]
  },
  {
   "cell_type": "code",
   "execution_count": 9,
   "metadata": {
    "ExecuteTime": {
     "end_time": "2019-11-28T19:17:18.484534Z",
     "start_time": "2019-11-28T19:17:18.482087Z"
    }
   },
   "outputs": [],
   "source": [
    "l1.extend(l2) # adds the elements of 2nd list to the first one inplace. "
   ]
  },
  {
   "cell_type": "code",
   "execution_count": 10,
   "metadata": {
    "ExecuteTime": {
     "end_time": "2019-11-28T19:17:18.490290Z",
     "start_time": "2019-11-28T19:17:18.486068Z"
    }
   },
   "outputs": [
    {
     "data": {
      "text/plain": [
       "[1, 2, 3, 4, 5, 'six', 'seven', 'eight', 'nine', 'ten']"
      ]
     },
     "execution_count": 10,
     "metadata": {},
     "output_type": "execute_result"
    }
   ],
   "source": [
    "l1"
   ]
  },
  {
   "cell_type": "code",
   "execution_count": 11,
   "metadata": {
    "ExecuteTime": {
     "end_time": "2019-11-28T19:17:18.494230Z",
     "start_time": "2019-11-28T19:17:18.491831Z"
    }
   },
   "outputs": [],
   "source": [
    "l3 = l1 + l2 # add the elements but transposes the list "
   ]
  },
  {
   "cell_type": "code",
   "execution_count": 12,
   "metadata": {
    "ExecuteTime": {
     "end_time": "2019-11-28T19:17:18.499207Z",
     "start_time": "2019-11-28T19:17:18.495757Z"
    }
   },
   "outputs": [
    {
     "data": {
      "text/plain": [
       "[1,\n",
       " 2,\n",
       " 3,\n",
       " 4,\n",
       " 5,\n",
       " 'six',\n",
       " 'seven',\n",
       " 'eight',\n",
       " 'nine',\n",
       " 'ten',\n",
       " 'six',\n",
       " 'seven',\n",
       " 'eight',\n",
       " 'nine',\n",
       " 'ten']"
      ]
     },
     "execution_count": 12,
     "metadata": {},
     "output_type": "execute_result"
    }
   ],
   "source": [
    "l3"
   ]
  },
  {
   "cell_type": "markdown",
   "metadata": {},
   "source": [
    "##### Iterating over a list"
   ]
  },
  {
   "cell_type": "code",
   "execution_count": 13,
   "metadata": {
    "ExecuteTime": {
     "end_time": "2019-11-28T19:17:18.504826Z",
     "start_time": "2019-11-28T19:17:18.500779Z"
    }
   },
   "outputs": [
    {
     "name": "stdout",
     "output_type": "stream",
     "text": [
      "1,2,3,4,5,six,seven,eight,nine,ten,"
     ]
    }
   ],
   "source": [
    "for element in l1:\n",
    "    print(element, end=\",\")"
   ]
  },
  {
   "cell_type": "code",
   "execution_count": 14,
   "metadata": {
    "ExecuteTime": {
     "end_time": "2019-11-28T19:17:18.565277Z",
     "start_time": "2019-11-28T19:17:18.506461Z"
    }
   },
   "outputs": [
    {
     "ename": "TypeError",
     "evalue": "'<' not supported between instances of 'int' and 'str'",
     "output_type": "error",
     "traceback": [
      "\u001b[0;31m---------------------------------------------------------------------------\u001b[0m",
      "\u001b[0;31mTypeError\u001b[0m                                 Traceback (most recent call last)",
      "\u001b[0;32m<ipython-input-14-7d922388c487>\u001b[0m in \u001b[0;36m<module>\u001b[0;34m\u001b[0m\n\u001b[0;32m----> 1\u001b[0;31m \u001b[0mprint\u001b[0m\u001b[0;34m(\u001b[0m\u001b[0msorted\u001b[0m\u001b[0;34m(\u001b[0m\u001b[0ml1\u001b[0m\u001b[0;34m,\u001b[0m \u001b[0mreverse\u001b[0m\u001b[0;34m=\u001b[0m\u001b[0;32mTrue\u001b[0m\u001b[0;34m)\u001b[0m\u001b[0;34m)\u001b[0m\u001b[0;34m\u001b[0m\u001b[0;34m\u001b[0m\u001b[0m\n\u001b[0m",
      "\u001b[0;31mTypeError\u001b[0m: '<' not supported between instances of 'int' and 'str'"
     ]
    }
   ],
   "source": [
    "print(sorted(l1, reverse=True))"
   ]
  },
  {
   "cell_type": "code",
   "execution_count": 19,
   "metadata": {
    "ExecuteTime": {
     "end_time": "2019-11-28T19:17:26.171770Z",
     "start_time": "2019-11-28T19:17:26.168197Z"
    }
   },
   "outputs": [
    {
     "name": "stdout",
     "output_type": "stream",
     "text": [
      "['ten', 'six', 'seven', 'nine', 'eight', '5', '4', '3', '2', '1']\n"
     ]
    }
   ],
   "source": [
    "print(sorted([str(element) for element in l1], reverse=True))"
   ]
  },
  {
   "cell_type": "markdown",
   "metadata": {},
   "source": [
    "#### Python Tuples"
   ]
  },
  {
   "cell_type": "markdown",
   "metadata": {},
   "source": [
    "##### Tuples in python are like lists just that they are immutable "
   ]
  },
  {
   "cell_type": "code",
   "execution_count": 20,
   "metadata": {
    "ExecuteTime": {
     "end_time": "2019-11-28T19:17:26.844784Z",
     "start_time": "2019-11-28T19:17:26.777744Z"
    }
   },
   "outputs": [
    {
     "data": {
      "text/plain": [
       "tuple"
      ]
     },
     "execution_count": 20,
     "metadata": {},
     "output_type": "execute_result"
    }
   ],
   "source": [
    "t = ()\n",
    "type(t)"
   ]
  },
  {
   "cell_type": "code",
   "execution_count": 21,
   "metadata": {
    "ExecuteTime": {
     "end_time": "2019-11-28T19:17:26.968111Z",
     "start_time": "2019-11-28T19:17:26.964813Z"
    }
   },
   "outputs": [
    {
     "data": {
      "text/plain": [
       "tuple"
      ]
     },
     "execution_count": 21,
     "metadata": {},
     "output_type": "execute_result"
    }
   ],
   "source": [
    "t = 1,2,3,4,5\n",
    "type(t)"
   ]
  },
  {
   "cell_type": "code",
   "execution_count": 22,
   "metadata": {
    "ExecuteTime": {
     "end_time": "2019-11-28T19:17:27.115911Z",
     "start_time": "2019-11-28T19:17:27.112296Z"
    }
   },
   "outputs": [
    {
     "data": {
      "text/plain": [
       "((1, 2, 3), ('four', 'five', 'six'))"
      ]
     },
     "execution_count": 22,
     "metadata": {},
     "output_type": "execute_result"
    }
   ],
   "source": [
    "t = ((1,2,3),('four','five','six')) # nesting of tuples\n",
    "t"
   ]
  },
  {
   "cell_type": "code",
   "execution_count": 23,
   "metadata": {
    "ExecuteTime": {
     "end_time": "2019-11-28T19:17:27.345090Z",
     "start_time": "2019-11-28T19:17:27.256172Z"
    }
   },
   "outputs": [
    {
     "data": {
      "text/plain": [
       "(1, 2, 1, 2, 1, 2, 1, 2, 1, 2)"
      ]
     },
     "execution_count": 23,
     "metadata": {},
     "output_type": "execute_result"
    }
   ],
   "source": [
    "t = (1,2)*5 # repition is allowed in tuples\n",
    "t"
   ]
  },
  {
   "cell_type": "code",
   "execution_count": 24,
   "metadata": {
    "ExecuteTime": {
     "end_time": "2019-11-28T19:17:27.428661Z",
     "start_time": "2019-11-28T19:17:27.421824Z"
    }
   },
   "outputs": [
    {
     "name": "stdout",
     "output_type": "stream",
     "text": [
      "1\n"
     ]
    },
    {
     "ename": "TypeError",
     "evalue": "'tuple' object does not support item assignment",
     "output_type": "error",
     "traceback": [
      "\u001b[0;31m---------------------------------------------------------------------------\u001b[0m",
      "\u001b[0;31mTypeError\u001b[0m                                 Traceback (most recent call last)",
      "\u001b[0;32m<ipython-input-24-1a4b0a58a73d>\u001b[0m in \u001b[0;36m<module>\u001b[0;34m\u001b[0m\n\u001b[1;32m      1\u001b[0m \u001b[0mprint\u001b[0m\u001b[0;34m(\u001b[0m\u001b[0mt\u001b[0m\u001b[0;34m[\u001b[0m\u001b[0;36m0\u001b[0m\u001b[0;34m]\u001b[0m\u001b[0;34m)\u001b[0m \u001b[0;31m# accessing element of list\u001b[0m\u001b[0;34m\u001b[0m\u001b[0;34m\u001b[0m\u001b[0m\n\u001b[0;32m----> 2\u001b[0;31m \u001b[0mt\u001b[0m\u001b[0;34m[\u001b[0m\u001b[0;36m0\u001b[0m\u001b[0;34m]\u001b[0m \u001b[0;34m=\u001b[0m \u001b[0;36m5\u001b[0m \u001b[0;31m# lists are immutable\u001b[0m\u001b[0;34m\u001b[0m\u001b[0;34m\u001b[0m\u001b[0m\n\u001b[0m",
      "\u001b[0;31mTypeError\u001b[0m: 'tuple' object does not support item assignment"
     ]
    }
   ],
   "source": [
    "print(t[0]) # accessing element of list \n",
    "t[0] = 5 # lists are immutable"
   ]
  },
  {
   "cell_type": "code",
   "execution_count": 26,
   "metadata": {
    "ExecuteTime": {
     "end_time": "2019-11-28T19:25:19.533456Z",
     "start_time": "2019-11-28T19:25:19.529647Z"
    }
   },
   "outputs": [
    {
     "name": "stdout",
     "output_type": "stream",
     "text": [
      "(1, 2, 3) ('four', 'five', 'six')\n"
     ]
    }
   ],
   "source": [
    "t1, t2 = ((1,2,3), ('four','five','six')) # unpacking of tuples\n",
    "print(t1, t2)"
   ]
  },
  {
   "cell_type": "code",
   "execution_count": 27,
   "metadata": {
    "ExecuteTime": {
     "end_time": "2019-11-28T19:25:19.723495Z",
     "start_time": "2019-11-28T19:25:19.720080Z"
    }
   },
   "outputs": [
    {
     "name": "stdout",
     "output_type": "stream",
     "text": [
      "1 [2, 3, 4, 5]\n"
     ]
    }
   ],
   "source": [
    "t1, *t2 = (1,2,3,4,5) \n",
    "print(t1,t2)"
   ]
  },
  {
   "cell_type": "code",
   "execution_count": 28,
   "metadata": {
    "ExecuteTime": {
     "end_time": "2019-11-28T19:25:19.899654Z",
     "start_time": "2019-11-28T19:25:19.895498Z"
    }
   },
   "outputs": [
    {
     "data": {
      "text/plain": [
       "[(1, 3, 5), (2, 4, 6), ('one', 'two', 'three')]"
      ]
     },
     "execution_count": 28,
     "metadata": {},
     "output_type": "execute_result"
    }
   ],
   "source": [
    "t3 = zip([1,2,'one'],[3,4,'two'],[5,6,'three']) # takes an element from each list and forms tuples\n",
    "list(t3)"
   ]
  },
  {
   "cell_type": "code",
   "execution_count": 29,
   "metadata": {
    "ExecuteTime": {
     "end_time": "2019-11-28T19:25:20.065247Z",
     "start_time": "2019-11-28T19:25:20.061297Z"
    }
   },
   "outputs": [
    {
     "name": "stdout",
     "output_type": "stream",
     "text": [
      "0 one\n",
      "1 two\n",
      "2 three\n",
      "3 four\n"
     ]
    }
   ],
   "source": [
    "t1 = ['one','two','three','four']\n",
    "for idx, pair in enumerate(t1):\n",
    "    print(idx, pair)"
   ]
  },
  {
   "cell_type": "markdown",
   "metadata": {},
   "source": [
    "#### Python Sets"
   ]
  },
  {
   "cell_type": "markdown",
   "metadata": {},
   "source": [
    "##### Sets in python are unordered, mutable and  no duplicate elements"
   ]
  },
  {
   "cell_type": "code",
   "execution_count": 30,
   "metadata": {
    "ExecuteTime": {
     "end_time": "2019-11-28T19:25:20.570866Z",
     "start_time": "2019-11-28T19:25:20.567411Z"
    }
   },
   "outputs": [
    {
     "data": {
      "text/plain": [
       "set"
      ]
     },
     "execution_count": 30,
     "metadata": {},
     "output_type": "execute_result"
    }
   ],
   "source": [
    "s = {1,2,3}\n",
    "type(s)"
   ]
  },
  {
   "cell_type": "code",
   "execution_count": 31,
   "metadata": {
    "ExecuteTime": {
     "end_time": "2019-11-28T19:25:20.711083Z",
     "start_time": "2019-11-28T19:25:20.707747Z"
    }
   },
   "outputs": [
    {
     "data": {
      "text/plain": [
       "{1, 2, 3, 4}"
      ]
     },
     "execution_count": 31,
     "metadata": {},
     "output_type": "execute_result"
    }
   ],
   "source": [
    "s.add(4)\n",
    "s"
   ]
  },
  {
   "cell_type": "code",
   "execution_count": 32,
   "metadata": {
    "ExecuteTime": {
     "end_time": "2019-11-28T19:25:20.883859Z",
     "start_time": "2019-11-28T19:25:20.880624Z"
    }
   },
   "outputs": [
    {
     "data": {
      "text/plain": [
       "frozenset"
      ]
     },
     "execution_count": 32,
     "metadata": {},
     "output_type": "execute_result"
    }
   ],
   "source": [
    "fs = frozenset(s) # these are like sets just that are immutable\n",
    "type(fs)"
   ]
  },
  {
   "cell_type": "code",
   "execution_count": 33,
   "metadata": {
    "ExecuteTime": {
     "end_time": "2019-11-28T19:25:21.017758Z",
     "start_time": "2019-11-28T19:25:21.011790Z"
    }
   },
   "outputs": [
    {
     "ename": "AttributeError",
     "evalue": "'frozenset' object has no attribute 'add'",
     "output_type": "error",
     "traceback": [
      "\u001b[0;31m---------------------------------------------------------------------------\u001b[0m",
      "\u001b[0;31mAttributeError\u001b[0m                            Traceback (most recent call last)",
      "\u001b[0;32m<ipython-input-33-edd64301a8f2>\u001b[0m in \u001b[0;36m<module>\u001b[0;34m\u001b[0m\n\u001b[0;32m----> 1\u001b[0;31m \u001b[0mfs\u001b[0m\u001b[0;34m.\u001b[0m\u001b[0madd\u001b[0m\u001b[0;34m(\u001b[0m\u001b[0;36m4\u001b[0m\u001b[0;34m)\u001b[0m\u001b[0;34m\u001b[0m\u001b[0;34m\u001b[0m\u001b[0m\n\u001b[0m",
      "\u001b[0;31mAttributeError\u001b[0m: 'frozenset' object has no attribute 'add'"
     ]
    }
   ],
   "source": [
    "fs.add(4)"
   ]
  },
  {
   "cell_type": "code",
   "execution_count": 34,
   "metadata": {
    "ExecuteTime": {
     "end_time": "2019-11-28T19:25:21.229494Z",
     "start_time": "2019-11-28T19:25:21.225525Z"
    }
   },
   "outputs": [
    {
     "data": {
      "text/plain": [
       "{'collections', 'dictionary', 'frozenset', 'lists', 'sets', 'tuples'}"
      ]
     },
     "execution_count": 34,
     "metadata": {},
     "output_type": "execute_result"
    }
   ],
   "source": [
    "python_datatypes1 = {'lists','tuples','sets','frozenset'}\n",
    "python_datatypes2 = {'sets','dictionary','collections'}\n",
    "python_datatypes1.union(python_datatypes2) # OR operator"
   ]
  },
  {
   "cell_type": "code",
   "execution_count": 35,
   "metadata": {
    "ExecuteTime": {
     "end_time": "2019-11-28T19:25:21.378344Z",
     "start_time": "2019-11-28T19:25:21.375158Z"
    }
   },
   "outputs": [
    {
     "data": {
      "text/plain": [
       "{'sets'}"
      ]
     },
     "execution_count": 35,
     "metadata": {},
     "output_type": "execute_result"
    }
   ],
   "source": [
    "python_datatypes1.intersection(python_datatypes2) # AND operator"
   ]
  },
  {
   "cell_type": "code",
   "execution_count": 36,
   "metadata": {
    "ExecuteTime": {
     "end_time": "2019-11-28T19:25:21.609382Z",
     "start_time": "2019-11-28T19:25:21.606126Z"
    }
   },
   "outputs": [
    {
     "data": {
      "text/plain": [
       "{'frozenset', 'lists', 'tuples'}"
      ]
     },
     "execution_count": 36,
     "metadata": {},
     "output_type": "execute_result"
    }
   ],
   "source": [
    "python_datatypes1.difference(python_datatypes2) # - operator"
   ]
  },
  {
   "cell_type": "markdown",
   "metadata": {
    "ExecuteTime": {
     "end_time": "2019-11-28T17:56:16.054680Z",
     "start_time": "2019-11-28T17:56:16.007658Z"
    }
   },
   "source": [
    "###### Why are Sets faster\n",
    "Sets are implemented using hash tables. Whenever you add an object to a set, the position within the memory of the set object is determined using the hash of the object to be added. When testing for membership, all that needs to be done is basically to look if the object is at the position determined by its hash, so the speed of this operation does not depend on the size of the set. For lists, in contrast, the whole list needs to be searched, which will become slower as the list grows."
   ]
  },
  {
   "cell_type": "markdown",
   "metadata": {},
   "source": [
    "#### Python Dictionaries"
   ]
  },
  {
   "cell_type": "markdown",
   "metadata": {},
   "source": [
    "##### Python Dicts are unordered collection of data values used to store key:value pairs \n",
    "Values in a dictionary can be of any datatype and can be duplicated, whereas keys can’t be repeated and must be immutable."
   ]
  },
  {
   "cell_type": "code",
   "execution_count": 37,
   "metadata": {
    "ExecuteTime": {
     "end_time": "2019-11-28T19:25:22.316454Z",
     "start_time": "2019-11-28T19:25:22.313159Z"
    }
   },
   "outputs": [
    {
     "data": {
      "text/plain": [
       "dict"
      ]
     },
     "execution_count": 37,
     "metadata": {},
     "output_type": "execute_result"
    }
   ],
   "source": [
    "d = {}\n",
    "type(d)"
   ]
  },
  {
   "cell_type": "code",
   "execution_count": 38,
   "metadata": {
    "ExecuteTime": {
     "end_time": "2019-11-28T19:25:22.497638Z",
     "start_time": "2019-11-28T19:25:22.493751Z"
    }
   },
   "outputs": [
    {
     "data": {
      "text/plain": [
       "{'adam': 1, 'cora': [1, 2, 3], 'zing': {'a', 'b'}, 1: 'peru'}"
      ]
     },
     "execution_count": 38,
     "metadata": {},
     "output_type": "execute_result"
    }
   ],
   "source": [
    "d = {\"adam\":1, \"cora\":[1,2,3], \"zing\":{'a','b'}, 1: \"peru\"}\n",
    "d"
   ]
  },
  {
   "cell_type": "code",
   "execution_count": 39,
   "metadata": {
    "ExecuteTime": {
     "end_time": "2019-11-28T19:25:22.744799Z",
     "start_time": "2019-11-28T19:25:22.691130Z"
    }
   },
   "outputs": [
    {
     "name": "stdout",
     "output_type": "stream",
     "text": [
      "adam 1\n",
      "cora [1, 2, 3]\n",
      "zing {'a', 'b'}\n",
      "1 peru\n"
     ]
    }
   ],
   "source": [
    "for key, value in d.items():\n",
    "    print(key, value)"
   ]
  },
  {
   "cell_type": "code",
   "execution_count": 2,
   "metadata": {
    "ExecuteTime": {
     "end_time": "2019-11-29T10:58:38.078535Z",
     "start_time": "2019-11-29T10:58:38.074433Z"
    }
   },
   "outputs": [
    {
     "name": "stdout",
     "output_type": "stream",
     "text": [
      "['zing', 'cora', 'adam']\n"
     ]
    }
   ],
   "source": [
    "d = {\"adam\":1, \"cora\":[1,2,3], \"zing\":{'a','b'}}\n",
    "print(sorted(d, reverse=True))"
   ]
  },
  {
   "cell_type": "code",
   "execution_count": 3,
   "metadata": {
    "ExecuteTime": {
     "end_time": "2019-11-29T10:58:38.272724Z",
     "start_time": "2019-11-29T10:58:38.266525Z"
    }
   },
   "outputs": [
    {
     "ename": "KeyError",
     "evalue": "'adams'",
     "output_type": "error",
     "traceback": [
      "\u001b[0;31m---------------------------------------------------------------------------\u001b[0m",
      "\u001b[0;31mKeyError\u001b[0m                                  Traceback (most recent call last)",
      "\u001b[0;32m<ipython-input-3-ab58fa721054>\u001b[0m in \u001b[0;36m<module>\u001b[0;34m\u001b[0m\n\u001b[0;32m----> 1\u001b[0;31m \u001b[0md\u001b[0m\u001b[0;34m[\u001b[0m\u001b[0;34m'adams'\u001b[0m\u001b[0;34m]\u001b[0m\u001b[0;34m\u001b[0m\u001b[0;34m\u001b[0m\u001b[0m\n\u001b[0m",
      "\u001b[0;31mKeyError\u001b[0m: 'adams'"
     ]
    }
   ],
   "source": [
    "d['adams']"
   ]
  },
  {
   "cell_type": "code",
   "execution_count": 5,
   "metadata": {
    "ExecuteTime": {
     "end_time": "2019-11-29T10:58:51.545408Z",
     "start_time": "2019-11-29T10:58:51.486680Z"
    }
   },
   "outputs": [
    {
     "data": {
      "text/plain": [
       "'Not present'"
      ]
     },
     "execution_count": 5,
     "metadata": {},
     "output_type": "execute_result"
    }
   ],
   "source": [
    "d.get('adams', 'Not present') # safely accessing the dict elements by key "
   ]
  },
  {
   "cell_type": "code",
   "execution_count": 8,
   "metadata": {
    "ExecuteTime": {
     "end_time": "2019-11-29T11:01:47.445059Z",
     "start_time": "2019-11-29T11:01:47.424673Z"
    }
   },
   "outputs": [
    {
     "data": {
      "text/plain": [
       "{'adam': 1, 'cora': [1, 2, 3], 'zing': {'a', 'b'}, 'adams': 2}"
      ]
     },
     "execution_count": 8,
     "metadata": {},
     "output_type": "execute_result"
    }
   ],
   "source": [
    "d.update({'adams':2})\n",
    "d"
   ]
  },
  {
   "cell_type": "code",
   "execution_count": 9,
   "metadata": {
    "ExecuteTime": {
     "end_time": "2019-11-29T11:01:56.644133Z",
     "start_time": "2019-11-29T11:01:56.640296Z"
    }
   },
   "outputs": [
    {
     "data": {
      "text/plain": [
       "{'adam': 1, 'cora': [1, 2, 3], 'zing': {'a', 'b'}, 'adams': 3}"
      ]
     },
     "execution_count": 9,
     "metadata": {},
     "output_type": "execute_result"
    }
   ],
   "source": [
    "d['adams'] = 3\n",
    "d"
   ]
  },
  {
   "cell_type": "code",
   "execution_count": 10,
   "metadata": {
    "ExecuteTime": {
     "end_time": "2019-11-29T11:02:24.844232Z",
     "start_time": "2019-11-29T11:02:24.824025Z"
    }
   },
   "outputs": [
    {
     "data": {
      "text/plain": [
       "{'adam': 1, 'cora': [1, 2, 3], 'zing': {'a', 'b'}}"
      ]
     },
     "execution_count": 10,
     "metadata": {},
     "output_type": "execute_result"
    }
   ],
   "source": [
    "del d['adams']\n",
    "d"
   ]
  },
  {
   "cell_type": "markdown",
   "metadata": {},
   "source": [
    "##### Iterating over a dictionary"
   ]
  },
  {
   "cell_type": "code",
   "execution_count": 11,
   "metadata": {
    "ExecuteTime": {
     "end_time": "2019-11-29T11:03:11.444857Z",
     "start_time": "2019-11-29T11:03:11.383430Z"
    }
   },
   "outputs": [
    {
     "name": "stdout",
     "output_type": "stream",
     "text": [
      "Key - adam, Value - 1\n",
      "Key - cora, Value - [1, 2, 3]\n",
      "Key - zing, Value - {'b', 'a'}\n"
     ]
    }
   ],
   "source": [
    "for key, value in d.items():\n",
    "    print(f\"Key - {key}, Value - {value}\")"
   ]
  },
  {
   "cell_type": "markdown",
   "metadata": {},
   "source": [
    "#### Python Collections"
   ]
  },
  {
   "cell_type": "markdown",
   "metadata": {},
   "source": [
    "##### Counter"
   ]
  },
  {
   "cell_type": "code",
   "execution_count": 18,
   "metadata": {
    "ExecuteTime": {
     "end_time": "2019-11-29T11:07:55.128322Z",
     "start_time": "2019-11-29T11:07:55.125534Z"
    }
   },
   "outputs": [],
   "source": [
    "l = ['UK','US','UK','Asia','Africa','US','Australia']"
   ]
  },
  {
   "cell_type": "code",
   "execution_count": 19,
   "metadata": {
    "ExecuteTime": {
     "end_time": "2019-11-29T11:07:55.579949Z",
     "start_time": "2019-11-29T11:07:55.576323Z"
    },
    "scrolled": true
   },
   "outputs": [
    {
     "data": {
      "text/plain": [
       "Counter({'UK': 2, 'US': 2, 'Asia': 1, 'Africa': 1, 'Australia': 1})"
      ]
     },
     "execution_count": 19,
     "metadata": {},
     "output_type": "execute_result"
    }
   ],
   "source": [
    "from collections import Counter\n",
    "Counter(l)"
   ]
  },
  {
   "cell_type": "code",
   "execution_count": 22,
   "metadata": {
    "ExecuteTime": {
     "end_time": "2019-11-29T11:13:10.267079Z",
     "start_time": "2019-11-29T11:13:10.263145Z"
    }
   },
   "outputs": [
    {
     "data": {
      "text/plain": [
       "[('UK', 2), ('US', 2)]"
      ]
     },
     "execution_count": 22,
     "metadata": {},
     "output_type": "execute_result"
    }
   ],
   "source": [
    "Counter(l).most_common(2)"
   ]
  },
  {
   "cell_type": "markdown",
   "metadata": {},
   "source": [
    "##### Default Dict"
   ]
  },
  {
   "cell_type": "code",
   "execution_count": 47,
   "metadata": {
    "ExecuteTime": {
     "end_time": "2019-11-29T11:27:16.759132Z",
     "start_time": "2019-11-29T11:27:16.755979Z"
    }
   },
   "outputs": [],
   "source": [
    "from collections import defaultdict\n",
    "dd = defaultdict(int) # we can also pass difference default values like lambda: vanilla\n",
    "d = {}\n",
    "l = ['adam','irine','irine','adam','irine','adam','adam','adam']"
   ]
  },
  {
   "cell_type": "code",
   "execution_count": 48,
   "metadata": {
    "ExecuteTime": {
     "end_time": "2019-11-29T11:27:16.925040Z",
     "start_time": "2019-11-29T11:27:16.921570Z"
    }
   },
   "outputs": [
    {
     "name": "stdout",
     "output_type": "stream",
     "text": [
      "{'adam': 5, 'irine': 3}\n"
     ]
    }
   ],
   "source": [
    "for element in l:\n",
    "    if element not in d:\n",
    "        d[element] = 1\n",
    "    else:\n",
    "        d[element] += 1\n",
    "print(d)"
   ]
  },
  {
   "cell_type": "code",
   "execution_count": 49,
   "metadata": {
    "ExecuteTime": {
     "end_time": "2019-11-29T11:27:17.068546Z",
     "start_time": "2019-11-29T11:27:17.064980Z"
    }
   },
   "outputs": [
    {
     "data": {
      "text/plain": [
       "defaultdict(int, {'adam': 5, 'irine': 3})"
      ]
     },
     "execution_count": 49,
     "metadata": {},
     "output_type": "execute_result"
    }
   ],
   "source": [
    "for element in l:\n",
    "    dd[element] += 1\n",
    "dd"
   ]
  },
  {
   "cell_type": "code",
   "execution_count": 50,
   "metadata": {
    "ExecuteTime": {
     "end_time": "2019-11-29T11:27:17.211493Z",
     "start_time": "2019-11-29T11:27:17.208293Z"
    }
   },
   "outputs": [
    {
     "data": {
      "text/plain": [
       "('irine', 3)"
      ]
     },
     "execution_count": 50,
     "metadata": {},
     "output_type": "execute_result"
    }
   ],
   "source": [
    "dd.popitem() # to remove the last inserted item. From Python 3.7 all dictionaries are ordered.  "
   ]
  },
  {
   "cell_type": "markdown",
   "metadata": {},
   "source": [
    "##### named tuples"
   ]
  },
  {
   "cell_type": "markdown",
   "metadata": {},
   "source": [
    "these are tuples and like dictionaries contain keys plus are hashed to a particular value"
   ]
  },
  {
   "cell_type": "code",
   "execution_count": 53,
   "metadata": {
    "ExecuteTime": {
     "end_time": "2019-11-29T11:42:15.457882Z",
     "start_time": "2019-11-29T11:42:15.451643Z"
    }
   },
   "outputs": [
    {
     "name": "stdout",
     "output_type": "stream",
     "text": [
      "[DateDetails(date='01/04/2015', stop='Division/Milwaukee', riders='100'), DateDetails(date='01/05/2015', stop='Division/Milwaukee', riders='120'), DateDetails(date='01/06/2015', stop='Division/Milwaukee', riders='130'), DateDetails(date='01/07/2015', stop='Division/Milwaukee', riders='110'), DateDetails(date='01/08/2015', stop='Division/Milwaukee', riders='105')]\n"
     ]
    }
   ],
   "source": [
    "from collections import namedtuple\n",
    "\n",
    "DateDetails = namedtuple('DateDetails', ['date', 'stop', 'riders']) # names for the element specified here\n",
    "\n",
    "# Create the empty list: labeled_entries\n",
    "labeled_entries = []\n",
    "\n",
    "entries =  [('01/04/2015', 'Division/Milwaukee', '100'),\n",
    " ('01/05/2015', 'Division/Milwaukee', '120'),\n",
    " ('01/06/2015', 'Division/Milwaukee', '130'),\n",
    " ('01/07/2015', 'Division/Milwaukee', '110'),\n",
    " ('01/08/2015', 'Division/Milwaukee', '105'),\n",
    " ('01/09/2015', 'Division/Milwaukee', '115')]\n",
    "\n",
    "\n",
    "# Iterate over the entries\n",
    "for date, stop, riders in entries:\n",
    "    # Append a new DateDetails namedtuple instance for each entry to labeled_entries\n",
    "    labeled_entries.append(DateDetails(date, stop, riders))\n",
    "    \n",
    "# Print the first 5 items in labeled_entries\n",
    "print(labeled_entries[:5])"
   ]
  },
  {
   "cell_type": "markdown",
   "metadata": {},
   "source": [
    "#### Python Date Times"
   ]
  },
  {
   "cell_type": "markdown",
   "metadata": {},
   "source": [
    "##### string to date times"
   ]
  },
  {
   "cell_type": "code",
   "execution_count": 55,
   "metadata": {
    "ExecuteTime": {
     "end_time": "2019-11-29T11:43:38.444885Z",
     "start_time": "2019-11-29T11:43:38.359454Z"
    }
   },
   "outputs": [
    {
     "name": "stdout",
     "output_type": "stream",
     "text": [
      "2019-01-10 00:00:00 <class 'datetime.datetime'>\n",
      "2019-01-11 00:00:00 <class 'datetime.datetime'>\n",
      "2019-01-12 00:00:00 <class 'datetime.datetime'>\n",
      "2019-01-13 00:00:00 <class 'datetime.datetime'>\n"
     ]
    }
   ],
   "source": [
    "# Import the datetime object from datetime\n",
    "from datetime import datetime\n",
    "\n",
    "dates_list = ['01/10/2019','01/11/2019','01/12/2019','01/13/2019']\n",
    "\n",
    "# Iterate over the dates_list \n",
    "for item in dates_list:\n",
    "    # Convert each date to a datetime object: date_dt\n",
    "    date_dt = datetime.strptime(item, \"%m/%d/%Y\")\n",
    "    \n",
    "    # Print each date_dt\n",
    "    print(date_dt, type(date_dt))"
   ]
  },
  {
   "cell_type": "markdown",
   "metadata": {},
   "source": [
    "##### creating datetime objects"
   ]
  },
  {
   "cell_type": "code",
   "execution_count": 56,
   "metadata": {
    "ExecuteTime": {
     "end_time": "2019-11-29T11:48:50.500102Z",
     "start_time": "2019-11-29T11:48:50.495891Z"
    }
   },
   "outputs": [
    {
     "name": "stdout",
     "output_type": "stream",
     "text": [
      "2019-11-29 11:48:50.497700\n",
      "2019-11-29 11:48:50.497928\n"
     ]
    }
   ],
   "source": [
    "# Import datetime from the datetime module\n",
    "from datetime import datetime\n",
    "\n",
    "# Compute the local datetime: local_dt\n",
    "local_dt = datetime.now()\n",
    "\n",
    "# Print the local datetime\n",
    "print(local_dt)\n",
    "\n",
    "# Compute the UTC datetime: utc_dt\n",
    "utc_dt = datetime.utcnow()\n",
    "\n",
    "# Print the UTC datetime\n",
    "print(utc_dt)"
   ]
  },
  {
   "cell_type": "markdown",
   "metadata": {},
   "source": [
    "##### Working with timezones"
   ]
  },
  {
   "cell_type": "code",
   "execution_count": 61,
   "metadata": {
    "ExecuteTime": {
     "end_time": "2019-11-29T11:54:00.344818Z",
     "start_time": "2019-11-29T11:54:00.319362Z"
    }
   },
   "outputs": [
    {
     "name": "stdout",
     "output_type": "stream",
     "text": [
      "US Central -  2019-11-29 11:48:50.497700-05:51\n",
      "US Eastern -  2019-11-29 06:48:50.497700-05:00\n"
     ]
    }
   ],
   "source": [
    "from pytz import timezone\n",
    "\n",
    "# Create a Timezone object for Chicago\n",
    "chicago_usa_tz = timezone('US/Central')\n",
    "\n",
    "# Create a Timezone object for New York\n",
    "ny_usa_tz = timezone('US/Eastern')\n",
    "\n",
    "print('US Central - ', local_dt.replace(tzinfo=chicago_usa_tz))\n",
    "print('US Eastern - ', local_dt.astimezone(ny_usa_tz))"
   ]
  },
  {
   "cell_type": "code",
   "execution_count": 63,
   "metadata": {
    "ExecuteTime": {
     "end_time": "2019-11-29T11:54:52.514433Z",
     "start_time": "2019-11-29T11:54:52.511006Z"
    }
   },
   "outputs": [
    {
     "name": "stdout",
     "output_type": "stream",
     "text": [
      "2019-10-30 11:48:50.497700\n"
     ]
    }
   ],
   "source": [
    "# Import timedelta from the datetime module\n",
    "from datetime import timedelta\n",
    "\n",
    "print(local_dt - timedelta(days=30))"
   ]
  },
  {
   "cell_type": "code",
   "execution_count": null,
   "metadata": {},
   "outputs": [],
   "source": []
  }
 ],
 "metadata": {
  "kernelspec": {
   "display_name": "Python 3",
   "language": "python",
   "name": "python3"
  },
  "language_info": {
   "codemirror_mode": {
    "name": "ipython",
    "version": 3
   },
   "file_extension": ".py",
   "mimetype": "text/x-python",
   "name": "python",
   "nbconvert_exporter": "python",
   "pygments_lexer": "ipython3",
   "version": "3.6.7"
  },
  "toc": {
   "base_numbering": 1,
   "nav_menu": {},
   "number_sections": true,
   "sideBar": true,
   "skip_h1_title": false,
   "title_cell": "Table of Contents",
   "title_sidebar": "Contents",
   "toc_cell": false,
   "toc_position": {},
   "toc_section_display": true,
   "toc_window_display": false
  }
 },
 "nbformat": 4,
 "nbformat_minor": 2
}
